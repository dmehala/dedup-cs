{
 "cells": [
  {
   "cell_type": "markdown",
   "id": "169f39f9-a42b-4b9c-a1e2-7a617ec3f1e9",
   "metadata": {},
   "source": [
    "# Deduplication Problem by Content Square\n",
    "\n",
    "## Problem statement\n",
    "Movies are collected from different data providers. Data providers don't always use the same information to describe the same movie.\n",
    "Given a list of movies where each movie is described by two different providers, the task is to identify the duplications.\n",
    "\n",
    "The purpose of this kernel is first to explore the dataset, then, try to identify duplicated records.\n",
    "\n",
    "## What is duplication?\n",
    "In our case, duplicate means we can have two slightly different entries for the same movie. This is what is called in academic studies __record linkage__.\n",
    "To solve our problem, we will use the probabilistic approch.\n",
    "\n",
    "## Reminder\n",
    "For two entries describing the same movie, it's possible to have the following differences:\n",
    "* id: each is unique\n",
    "* year: ±1 year at maximum\n",
    "* length: ±5% more, 2* |x-y| / (x+y) <= 0.05 where x and y is the provided movie length\n",
    "* \\[genre, actors, directors\\]: different order, or missing one or many -> no words shuffle"
   ]
  },
  {
   "cell_type": "markdown",
   "id": "dcb4a056-56a0-47c0-9cb7-49e71fd1b1a1",
   "metadata": {},
   "source": [
    "## Setup Python"
   ]
  },
  {
   "cell_type": "code",
   "execution_count": 60,
   "id": "c92dc883-f6f3-47d0-a861-c39c2e811d2b",
   "metadata": {},
   "outputs": [
    {
     "name": "stdout",
     "output_type": "stream",
     "text": [
      "Pandas: 1.2.4\n",
      "Numpy: 1.20.1\n",
      "Seaborn: 0.11.1\n"
     ]
    },
    {
     "data": {
      "text/plain": [
       "<Figure size 1152x432 with 0 Axes>"
      ]
     },
     "metadata": {},
     "output_type": "display_data"
    }
   ],
   "source": [
    "import pandas as pd\n",
    "import numpy as np\n",
    "import seaborn as sns\n",
    "import matplotlib.pyplot as plt\n",
    "\n",
    "plt.figure(figsize=(16,6))\n",
    "\n",
    "print(f\"Pandas: {pd.__version__}\")\n",
    "print(f\"Numpy: {np.__version__}\")\n",
    "print(f\"Seaborn: {sns.__version__}\")"
   ]
  },
  {
   "cell_type": "markdown",
   "id": "9f1c1a8f-c54f-4333-bd00-3eb7d1186dff",
   "metadata": {},
   "source": [
    "## Read the dataset"
   ]
  },
  {
   "cell_type": "code",
   "execution_count": 61,
   "id": "c7d78580-1fe6-47a8-9715-d8f9db4581ec",
   "metadata": {},
   "outputs": [
    {
     "name": "stdout",
     "output_type": "stream",
     "text": [
      "<class 'pandas.core.frame.DataFrame'>\n",
      "RangeIndex: 558458 entries, 0 to 558457\n",
      "Data columns (total 6 columns):\n",
      " #   Column     Non-Null Count   Dtype \n",
      "---  ------     --------------   ----- \n",
      " 0   id         558458 non-null  object\n",
      " 1   year       558458 non-null  int64 \n",
      " 2   length     558458 non-null  int64 \n",
      " 3   genre      483540 non-null  object\n",
      " 4   directors  461089 non-null  object\n",
      " 5   actors     415669 non-null  object\n",
      "dtypes: int64(2), object(4)\n",
      "memory usage: 25.6+ MB\n"
     ]
    }
   ],
   "source": [
    "df = pd.read_csv('movies.tsv', sep='\\t', low_memory=False) # low_memory avoid reading by chunks and mixed types issues\n",
    "df = df.replace(r'\\N', np.NaN) # Unknown fields are marked \\N\n",
    "df.info()"
   ]
  },
  {
   "cell_type": "code",
   "execution_count": 62,
   "id": "ed29b18d-cd31-4f0c-bbc7-73c57b053a95",
   "metadata": {},
   "outputs": [
    {
     "data": {
      "text/html": [
       "<div>\n",
       "<style scoped>\n",
       "    .dataframe tbody tr th:only-of-type {\n",
       "        vertical-align: middle;\n",
       "    }\n",
       "\n",
       "    .dataframe tbody tr th {\n",
       "        vertical-align: top;\n",
       "    }\n",
       "\n",
       "    .dataframe thead th {\n",
       "        text-align: right;\n",
       "    }\n",
       "</style>\n",
       "<table border=\"1\" class=\"dataframe\">\n",
       "  <thead>\n",
       "    <tr style=\"text-align: right;\">\n",
       "      <th></th>\n",
       "      <th>id</th>\n",
       "      <th>year</th>\n",
       "      <th>length</th>\n",
       "      <th>genre</th>\n",
       "      <th>directors</th>\n",
       "      <th>actors</th>\n",
       "    </tr>\n",
       "  </thead>\n",
       "  <tbody>\n",
       "    <tr>\n",
       "      <th>0</th>\n",
       "      <td>9bd4cbab-0af9-43c1-a6fe-8440b5f7979a</td>\n",
       "      <td>2015</td>\n",
       "      <td>62</td>\n",
       "      <td>NaN</td>\n",
       "      <td>Stephen Ang</td>\n",
       "      <td>Stephen Ang,George Capacete,Kimberly Cashner,P...</td>\n",
       "    </tr>\n",
       "    <tr>\n",
       "      <th>1</th>\n",
       "      <td>7e0a9d8e-99b7-4a88-b610-3a52faaae2c1</td>\n",
       "      <td>1929</td>\n",
       "      <td>64</td>\n",
       "      <td>Crime,Drama,Mystery</td>\n",
       "      <td>Phil Rosen</td>\n",
       "      <td>Ricardo Cortez,Nancy Welford</td>\n",
       "    </tr>\n",
       "    <tr>\n",
       "      <th>2</th>\n",
       "      <td>6acef12b-404c-4a8f-b365-cef798585893</td>\n",
       "      <td>1993</td>\n",
       "      <td>87</td>\n",
       "      <td>Thriller</td>\n",
       "      <td>Christian González</td>\n",
       "      <td>Leonardo Daniel,Roberto 'Flaco' Guzmán,Armando...</td>\n",
       "    </tr>\n",
       "    <tr>\n",
       "      <th>3</th>\n",
       "      <td>9e41e9a6-5628-4123-9353-b9487654ed84</td>\n",
       "      <td>2011</td>\n",
       "      <td>46</td>\n",
       "      <td>Biography,Documentary,Drama</td>\n",
       "      <td>Han Tang</td>\n",
       "      <td>NaN</td>\n",
       "    </tr>\n",
       "    <tr>\n",
       "      <th>4</th>\n",
       "      <td>8b2789fe-36fc-4f74-9094-b11ec46bfd42</td>\n",
       "      <td>2018</td>\n",
       "      <td>60</td>\n",
       "      <td>Documentary</td>\n",
       "      <td>NaN</td>\n",
       "      <td>NaN</td>\n",
       "    </tr>\n",
       "  </tbody>\n",
       "</table>\n",
       "</div>"
      ],
      "text/plain": [
       "                                     id  year  length  \\\n",
       "0  9bd4cbab-0af9-43c1-a6fe-8440b5f7979a  2015      62   \n",
       "1  7e0a9d8e-99b7-4a88-b610-3a52faaae2c1  1929      64   \n",
       "2  6acef12b-404c-4a8f-b365-cef798585893  1993      87   \n",
       "3  9e41e9a6-5628-4123-9353-b9487654ed84  2011      46   \n",
       "4  8b2789fe-36fc-4f74-9094-b11ec46bfd42  2018      60   \n",
       "\n",
       "                         genre           directors  \\\n",
       "0                          NaN         Stephen Ang   \n",
       "1          Crime,Drama,Mystery          Phil Rosen   \n",
       "2                     Thriller  Christian González   \n",
       "3  Biography,Documentary,Drama            Han Tang   \n",
       "4                  Documentary                 NaN   \n",
       "\n",
       "                                              actors  \n",
       "0  Stephen Ang,George Capacete,Kimberly Cashner,P...  \n",
       "1                       Ricardo Cortez,Nancy Welford  \n",
       "2  Leonardo Daniel,Roberto 'Flaco' Guzmán,Armando...  \n",
       "3                                                NaN  \n",
       "4                                                NaN  "
      ]
     },
     "execution_count": 62,
     "metadata": {},
     "output_type": "execute_result"
    }
   ],
   "source": [
    "df.head()"
   ]
  },
  {
   "cell_type": "code",
   "execution_count": 63,
   "id": "5f6b9d9e-6ea3-412e-ba2d-11e462f97261",
   "metadata": {},
   "outputs": [
    {
     "data": {
      "text/html": [
       "<div>\n",
       "<style scoped>\n",
       "    .dataframe tbody tr th:only-of-type {\n",
       "        vertical-align: middle;\n",
       "    }\n",
       "\n",
       "    .dataframe tbody tr th {\n",
       "        vertical-align: top;\n",
       "    }\n",
       "\n",
       "    .dataframe thead th {\n",
       "        text-align: right;\n",
       "    }\n",
       "</style>\n",
       "<table border=\"1\" class=\"dataframe\">\n",
       "  <thead>\n",
       "    <tr style=\"text-align: right;\">\n",
       "      <th></th>\n",
       "      <th>year</th>\n",
       "      <th>length</th>\n",
       "    </tr>\n",
       "  </thead>\n",
       "  <tbody>\n",
       "    <tr>\n",
       "      <th>count</th>\n",
       "      <td>558458.000000</td>\n",
       "      <td>558458.000000</td>\n",
       "    </tr>\n",
       "    <tr>\n",
       "      <th>mean</th>\n",
       "      <td>1992.097026</td>\n",
       "      <td>87.525569</td>\n",
       "    </tr>\n",
       "    <tr>\n",
       "      <th>std</th>\n",
       "      <td>25.832787</td>\n",
       "      <td>53.825148</td>\n",
       "    </tr>\n",
       "    <tr>\n",
       "      <th>min</th>\n",
       "      <td>1893.000000</td>\n",
       "      <td>1.000000</td>\n",
       "    </tr>\n",
       "    <tr>\n",
       "      <th>25%</th>\n",
       "      <td>1976.000000</td>\n",
       "      <td>73.000000</td>\n",
       "    </tr>\n",
       "    <tr>\n",
       "      <th>50%</th>\n",
       "      <td>2004.000000</td>\n",
       "      <td>88.000000</td>\n",
       "    </tr>\n",
       "    <tr>\n",
       "      <th>75%</th>\n",
       "      <td>2013.000000</td>\n",
       "      <td>99.000000</td>\n",
       "    </tr>\n",
       "    <tr>\n",
       "      <th>max</th>\n",
       "      <td>2026.000000</td>\n",
       "      <td>14400.000000</td>\n",
       "    </tr>\n",
       "  </tbody>\n",
       "</table>\n",
       "</div>"
      ],
      "text/plain": [
       "                year         length\n",
       "count  558458.000000  558458.000000\n",
       "mean     1992.097026      87.525569\n",
       "std        25.832787      53.825148\n",
       "min      1893.000000       1.000000\n",
       "25%      1976.000000      73.000000\n",
       "50%      2004.000000      88.000000\n",
       "75%      2013.000000      99.000000\n",
       "max      2026.000000   14400.000000"
      ]
     },
     "execution_count": 63,
     "metadata": {},
     "output_type": "execute_result"
    }
   ],
   "source": [
    "df.describe()"
   ]
  },
  {
   "cell_type": "markdown",
   "id": "668ef61e-691e-443c-8d9a-342ba1435ce3",
   "metadata": {},
   "source": [
    "Out of 558 458 entries, only genre, directors and actors contains null values and need to be processed.\n",
    "\n",
    "Year and length does not look bad, 75% percentile make total sense. If my assumption is true about {genre, directorsn, actors}, overall the data do not look noisy."
   ]
  },
  {
   "cell_type": "markdown",
   "id": "3388dbcb-99d3-4a75-b899-16ce3a4942b0",
   "metadata": {},
   "source": [
    "## Data cleaning"
   ]
  },
  {
   "cell_type": "code",
   "execution_count": 64,
   "id": "73bf35b5-0bc1-4461-a869-761ba1df7938",
   "metadata": {},
   "outputs": [
    {
     "data": {
      "text/html": [
       "<div>\n",
       "<style scoped>\n",
       "    .dataframe tbody tr th:only-of-type {\n",
       "        vertical-align: middle;\n",
       "    }\n",
       "\n",
       "    .dataframe tbody tr th {\n",
       "        vertical-align: top;\n",
       "    }\n",
       "\n",
       "    .dataframe thead th {\n",
       "        text-align: right;\n",
       "    }\n",
       "</style>\n",
       "<table border=\"1\" class=\"dataframe\">\n",
       "  <thead>\n",
       "    <tr style=\"text-align: right;\">\n",
       "      <th></th>\n",
       "      <th>id</th>\n",
       "      <th>year</th>\n",
       "      <th>length</th>\n",
       "      <th>genre</th>\n",
       "      <th>directors</th>\n",
       "      <th>actors</th>\n",
       "    </tr>\n",
       "  </thead>\n",
       "  <tbody>\n",
       "    <tr>\n",
       "      <th>0</th>\n",
       "      <td>9bd4cbab-0af9-43c1-a6fe-8440b5f7979a</td>\n",
       "      <td>2015</td>\n",
       "      <td>62</td>\n",
       "      <td>NaN</td>\n",
       "      <td>{Stephen Ang}</td>\n",
       "      <td>{Stephen Ang, Kimberly Cashner, Peggy Glenn, G...</td>\n",
       "    </tr>\n",
       "    <tr>\n",
       "      <th>1</th>\n",
       "      <td>7e0a9d8e-99b7-4a88-b610-3a52faaae2c1</td>\n",
       "      <td>1929</td>\n",
       "      <td>64</td>\n",
       "      <td>{Mystery, Crime, Drama}</td>\n",
       "      <td>{Phil Rosen}</td>\n",
       "      <td>{Ricardo Cortez, Nancy Welford}</td>\n",
       "    </tr>\n",
       "    <tr>\n",
       "      <th>2</th>\n",
       "      <td>6acef12b-404c-4a8f-b365-cef798585893</td>\n",
       "      <td>1993</td>\n",
       "      <td>87</td>\n",
       "      <td>{Thriller}</td>\n",
       "      <td>{Christian González}</td>\n",
       "      <td>{Leonardo Daniel, Roberto 'Flaco' Guzmán, Arma...</td>\n",
       "    </tr>\n",
       "    <tr>\n",
       "      <th>3</th>\n",
       "      <td>9e41e9a6-5628-4123-9353-b9487654ed84</td>\n",
       "      <td>2011</td>\n",
       "      <td>46</td>\n",
       "      <td>{Documentary, Biography, Drama}</td>\n",
       "      <td>{Han Tang}</td>\n",
       "      <td>NaN</td>\n",
       "    </tr>\n",
       "    <tr>\n",
       "      <th>4</th>\n",
       "      <td>8b2789fe-36fc-4f74-9094-b11ec46bfd42</td>\n",
       "      <td>2018</td>\n",
       "      <td>60</td>\n",
       "      <td>{Documentary}</td>\n",
       "      <td>NaN</td>\n",
       "      <td>NaN</td>\n",
       "    </tr>\n",
       "  </tbody>\n",
       "</table>\n",
       "</div>"
      ],
      "text/plain": [
       "                                     id  year  length  \\\n",
       "0  9bd4cbab-0af9-43c1-a6fe-8440b5f7979a  2015      62   \n",
       "1  7e0a9d8e-99b7-4a88-b610-3a52faaae2c1  1929      64   \n",
       "2  6acef12b-404c-4a8f-b365-cef798585893  1993      87   \n",
       "3  9e41e9a6-5628-4123-9353-b9487654ed84  2011      46   \n",
       "4  8b2789fe-36fc-4f74-9094-b11ec46bfd42  2018      60   \n",
       "\n",
       "                             genre             directors  \\\n",
       "0                              NaN         {Stephen Ang}   \n",
       "1          {Mystery, Crime, Drama}          {Phil Rosen}   \n",
       "2                       {Thriller}  {Christian González}   \n",
       "3  {Documentary, Biography, Drama}            {Han Tang}   \n",
       "4                    {Documentary}                   NaN   \n",
       "\n",
       "                                              actors  \n",
       "0  {Stephen Ang, Kimberly Cashner, Peggy Glenn, G...  \n",
       "1                    {Ricardo Cortez, Nancy Welford}  \n",
       "2  {Leonardo Daniel, Roberto 'Flaco' Guzmán, Arma...  \n",
       "3                                                NaN  \n",
       "4                                                NaN  "
      ]
     },
     "execution_count": 64,
     "metadata": {},
     "output_type": "execute_result"
    }
   ],
   "source": [
    "def split_list(x):\n",
    "    return x if isinstance(x, float) else set([x.strip() for x in x.split(',')])\n",
    "\n",
    "df['actors'] = df['actors'].apply(split_list)\n",
    "df['genre'] = df['genre'].apply(split_list)\n",
    "df['directors'] = df['directors'].apply(split_list)\n",
    "\n",
    "df.head()"
   ]
  },
  {
   "cell_type": "markdown",
   "id": "6d96ce11-d7f1-49fd-befe-6f4a4162e98d",
   "metadata": {},
   "source": [
    "## Visualization"
   ]
  },
  {
   "cell_type": "markdown",
   "id": "ac6e2972-3cdd-4d41-b25c-51ac9914eeee",
   "metadata": {},
   "source": [
    "It is time to visualize the repartition of null values accross our dataset:"
   ]
  },
  {
   "cell_type": "code",
   "execution_count": 65,
   "id": "fad813aa-7c4b-43df-94a4-caaea8df77a3",
   "metadata": {},
   "outputs": [
    {
     "data": {
      "text/plain": [
       "<AxesSubplot:>"
      ]
     },
     "execution_count": 65,
     "metadata": {},
     "output_type": "execute_result"
    },
    {
     "data": {
      "image/png": "[encoded data removed]",
      "text/plain": [
       "<Figure size 432x288 with 1 Axes>"
      ]
     },
     "metadata": {
      "needs_background": "light"
     },
     "output_type": "display_data"
    }
   ],
   "source": [
    "sns.heatmap(df.isnull(), yticklabels = False, cbar = False, cmap = 'viridis')"
   ]
  },
  {
   "cell_type": "code",
   "execution_count": 66,
   "id": "a128ceec-8415-44a0-95b7-23e23bc6bac2",
   "metadata": {},
   "outputs": [
    {
     "name": "stdout",
     "output_type": "stream",
     "text": [
      "NaN actors values: 142789 (25.57%)\n",
      "NaN directors values: 97369 (17.44%)\n",
      "NaN actors values: 74918 (13.42%)\n"
     ]
    }
   ],
   "source": [
    "null_actors = df[df['actors'].isna()]\n",
    "null_actors_percentage = len(null_actors)*100/len(df['actors'])\n",
    "\n",
    "null_directors = df[df['directors'].isna()]\n",
    "null_directors_percentage = len(null_directors)*100/len(df['directors'])\n",
    "\n",
    "null_genre = df[df['genre'].isna()]\n",
    "null_genre_percentage = len(null_genre)*100/len(df['genre'])\n",
    "\n",
    "print(\"NaN actors values: {} ({:.2f}%)\".format(len(null_actors), null_actors_percentage))\n",
    "print(\"NaN directors values: {} ({:.2f}%)\".format(len(null_directors), null_directors_percentage))\n",
    "print(\"NaN actors values: {} ({:.2f}%)\".format(len(null_genre), null_genre_percentage))"
   ]
  },
  {
   "cell_type": "markdown",
   "id": "d68c1721-a6c9-4dad-a75e-73aae4283923",
   "metadata": {},
   "source": [
    "### Year\n",
    "How is the repartition?"
   ]
  },
  {
   "cell_type": "code",
   "execution_count": 67,
   "id": "48863c31-d3f9-4235-ac4d-50427a1cc9fd",
   "metadata": {},
   "outputs": [
    {
     "data": {
      "text/plain": [
       "<AxesSubplot:xlabel='year'>"
      ]
     },
     "execution_count": 67,
     "metadata": {},
     "output_type": "execute_result"
    },
    {
     "data": {
      "image/png": "[encoded data removed]",
      "text/plain": [
       "<Figure size 432x288 with 1 Axes>"
      ]
     },
     "metadata": {
      "needs_background": "light"
     },
     "output_type": "display_data"
    }
   ],
   "source": [
    "sns.boxplot(data=df, x='year')"
   ]
  },
  {
   "cell_type": "code",
   "execution_count": 68,
   "id": "8496931b-9f9b-4824-b161-64a3827de256",
   "metadata": {},
   "outputs": [
    {
     "data": {
      "text/plain": [
       "<seaborn.axisgrid.FacetGrid at 0x15e9eafaa90>"
      ]
     },
     "execution_count": 68,
     "metadata": {},
     "output_type": "execute_result"
    },
    {
     "data": {
      "image/png": "[encoded data removed]",
      "text/plain": [
       "<Figure size 360x360 with 1 Axes>"
      ]
     },
     "metadata": {
      "needs_background": "light"
     },
     "output_type": "display_data"
    }
   ],
   "source": [
    "sns.displot(data=df, x='year')"
   ]
  },
  {
   "cell_type": "code",
   "execution_count": 69,
   "id": "6af2de99-95a7-41fe-88bd-ca3d23039479",
   "metadata": {},
   "outputs": [
    {
     "data": {
      "text/plain": [
       "129"
      ]
     },
     "execution_count": 69,
     "metadata": {},
     "output_type": "execute_result"
    }
   ],
   "source": [
    "df['year'].nunique()"
   ]
  },
  {
   "cell_type": "markdown",
   "id": "a22af439-afca-49a3-a787-260ccd60d921",
   "metadata": {},
   "source": [
    "Year has 129 unique values, not evenly partitioned. Using year as blocking key is probably not a good idea because that will generate huge blocks and will not split enough the space area."
   ]
  },
  {
   "cell_type": "markdown",
   "id": "ef0a98ea-36f6-4529-aa36-80bd25fb04a3",
   "metadata": {},
   "source": [
    "### Length"
   ]
  },
  {
   "cell_type": "code",
   "execution_count": 70,
   "id": "57ade2af-c1f6-408d-bb68-1b4151a3432e",
   "metadata": {},
   "outputs": [
    {
     "data": {
      "text/plain": [
       "<AxesSubplot:xlabel='length'>"
      ]
     },
     "execution_count": 70,
     "metadata": {},
     "output_type": "execute_result"
    },
    {
     "data": {
      "image/png": "[encoded data removed]",
      "text/plain": [
       "<Figure size 432x288 with 1 Axes>"
      ]
     },
     "metadata": {
      "needs_background": "light"
     },
     "output_type": "display_data"
    }
   ],
   "source": [
    "sns.boxplot(data=df, x='length')"
   ]
  },
  {
   "cell_type": "code",
   "execution_count": 71,
   "id": "80cd77b8-311c-4bcd-9e0e-7eb931477af8",
   "metadata": {},
   "outputs": [
    {
     "data": {
      "text/plain": [
       "563"
      ]
     },
     "execution_count": 71,
     "metadata": {},
     "output_type": "execute_result"
    }
   ],
   "source": [
    "df['length'].nunique()"
   ]
  },
  {
   "cell_type": "markdown",
   "id": "17098123-ca43-435f-a07a-4ffa4936b32c",
   "metadata": {},
   "source": [
    "Same."
   ]
  },
  {
   "cell_type": "markdown",
   "id": "464900c9-4875-4fc0-a142-0952e3fc4c91",
   "metadata": {},
   "source": [
    "### Genre\n",
    "Analyze genre occurences for columns in list format."
   ]
  },
  {
   "cell_type": "code",
   "execution_count": 72,
   "id": "172b1316-4f25-4691-abc0-3db86fc3e380",
   "metadata": {},
   "outputs": [
    {
     "name": "stdout",
     "output_type": "stream",
     "text": [
      "Number of genre: 28\n"
     ]
    }
   ],
   "source": [
    "from collections import defaultdict\n",
    "\n",
    "def count_list_values(serie):\n",
    "    d = defaultdict(int)\n",
    "    for e in serie:\n",
    "        if not isinstance(e, float):\n",
    "            for v in e:\n",
    "                d[v] += 1\n",
    "            \n",
    "    return dict(d)\n",
    "\n",
    "genres_occ = count_list_values(df['genre'])\n",
    "print(f'Number of genre: {len(genres_occ.keys())}')"
   ]
  },
  {
   "cell_type": "code",
   "execution_count": 73,
   "id": "5c885d14-5954-473f-85d8-5a1a2cd654d5",
   "metadata": {},
   "outputs": [
    {
     "data": {
      "text/plain": [
       "<AxesSubplot:>"
      ]
     },
     "execution_count": 73,
     "metadata": {},
     "output_type": "execute_result"
    },
    {
     "data": {
      "image/png": "[encoded data removed]",
      "text/plain": [
       "<Figure size 432x288 with 1 Axes>"
      ]
     },
     "metadata": {
      "needs_background": "light"
     },
     "output_type": "display_data"
    }
   ],
   "source": [
    "genres = pd.DataFrame.from_dict(genres_occ, orient='index', columns=['count'])\n",
    "genres.plot(kind='bar')"
   ]
  },
  {
   "cell_type": "markdown",
   "id": "f07158f3-646e-43a2-9104-a8e82d5cf2bc",
   "metadata": {},
   "source": [
    "Let be honest, drama is the best kind of movie and the data show it."
   ]
  },
  {
   "cell_type": "markdown",
   "id": "d22c92ea-3c00-40eb-9fec-3892c1b1b202",
   "metadata": {},
   "source": [
    "### Directors"
   ]
  },
  {
   "cell_type": "code",
   "execution_count": 75,
   "id": "9a082215-28fa-4856-8fe6-4ad394b0858e",
   "metadata": {},
   "outputs": [
    {
     "name": "stdout",
     "output_type": "stream",
     "text": [
      "Number of directors: 130533\n"
     ]
    }
   ],
   "source": [
    "directors_occ = count_list_values(df['directors'])\n",
    "directors = pd.DataFrame.from_dict(directors_occ, orient='index', columns=['count'])\n",
    "\n",
    "print(f'Number of directors: {len(directors_occ.keys())}')"
   ]
  },
  {
   "cell_type": "code",
   "execution_count": 76,
   "id": "a3ecebe7-0168-4ab8-acf2-3f5a2abd73b7",
   "metadata": {},
   "outputs": [
    {
     "name": "stdout",
     "output_type": "stream",
     "text": [
      "Number of movie with 1 directors: 420927\n",
      "Number of movie with 2 directors: 34100\n",
      "Number of movie with 3 directors: 3709\n",
      "Number of movie with 4 directors: 912\n",
      "Number of movie with 5 directors: 428\n"
     ]
    }
   ],
   "source": [
    "for i in range(1, 6):\n",
    "    n_movies = len(df[df['directors'].apply(lambda x: 0 if isinstance(x, float) else len(x)) == i])\n",
    "    print(f\"Number of movie with {i} directors: {n_movies}\")"
   ]
  },
  {
   "cell_type": "markdown",
   "id": "16186bc2-fccc-4f6f-865b-a62a477ee8b4",
   "metadata": {},
   "source": [
    "A large majority of movie only has one director apparently. It's a cheap and effective blocking. "
   ]
  },
  {
   "cell_type": "markdown",
   "id": "393d9569-f6dc-429b-b831-ce0b4c2bb3e6",
   "metadata": {},
   "source": [
    "## Solution\n",
    "We want to avoid comparing all records against eachother, that would require N*(N-1)/2. For our use case, that represent more than 15B comparisons, any sane person knows that a quadratric algorithm is not suitable. We need to cut the search space first, and we have a lot way to do that:\n",
    "* Standard blocking\n",
    "* Suffix Arrays Blocking\n",
    "* Q-Grams Blocking\n",
    "* Token Blocking\n",
    "\n",
    "I embrace the KISS principle, so I'll stick with standard blocking.\n",
    "\n",
    "### Indexing / Blocking "
   ]
  },
  {
   "cell_type": "code",
   "execution_count": 79,
   "id": "b753e680-4ca1-452e-b2cb-bcffe6b6452b",
   "metadata": {},
   "outputs": [
    {
     "data": {
      "text/html": [
       "<div>\n",
       "<style scoped>\n",
       "    .dataframe tbody tr th:only-of-type {\n",
       "        vertical-align: middle;\n",
       "    }\n",
       "\n",
       "    .dataframe tbody tr th {\n",
       "        vertical-align: top;\n",
       "    }\n",
       "\n",
       "    .dataframe thead th {\n",
       "        text-align: right;\n",
       "    }\n",
       "</style>\n",
       "<table border=\"1\" class=\"dataframe\">\n",
       "  <thead>\n",
       "    <tr style=\"text-align: right;\">\n",
       "      <th></th>\n",
       "      <th>id</th>\n",
       "      <th>year</th>\n",
       "      <th>length</th>\n",
       "      <th>genre</th>\n",
       "      <th>directors</th>\n",
       "      <th>actors</th>\n",
       "      <th>blocking_key</th>\n",
       "    </tr>\n",
       "  </thead>\n",
       "  <tbody>\n",
       "    <tr>\n",
       "      <th>0</th>\n",
       "      <td>9bd4cbab-0af9-43c1-a6fe-8440b5f7979a</td>\n",
       "      <td>2015</td>\n",
       "      <td>62</td>\n",
       "      <td>NaN</td>\n",
       "      <td>{Stephen Ang}</td>\n",
       "      <td>{Stephen Ang, Kimberly Cashner, Peggy Glenn, G...</td>\n",
       "      <td>Stephen Ang</td>\n",
       "    </tr>\n",
       "    <tr>\n",
       "      <th>1</th>\n",
       "      <td>7e0a9d8e-99b7-4a88-b610-3a52faaae2c1</td>\n",
       "      <td>1929</td>\n",
       "      <td>64</td>\n",
       "      <td>{Mystery, Crime, Drama}</td>\n",
       "      <td>{Phil Rosen}</td>\n",
       "      <td>{Ricardo Cortez, Nancy Welford}</td>\n",
       "      <td>Phil Rosen</td>\n",
       "    </tr>\n",
       "    <tr>\n",
       "      <th>2</th>\n",
       "      <td>6acef12b-404c-4a8f-b365-cef798585893</td>\n",
       "      <td>1993</td>\n",
       "      <td>87</td>\n",
       "      <td>{Thriller}</td>\n",
       "      <td>{Christian González}</td>\n",
       "      <td>{Leonardo Daniel, Roberto 'Flaco' Guzmán, Arma...</td>\n",
       "      <td>Christian González</td>\n",
       "    </tr>\n",
       "    <tr>\n",
       "      <th>3</th>\n",
       "      <td>9e41e9a6-5628-4123-9353-b9487654ed84</td>\n",
       "      <td>2011</td>\n",
       "      <td>46</td>\n",
       "      <td>{Documentary, Biography, Drama}</td>\n",
       "      <td>{Han Tang}</td>\n",
       "      <td>NaN</td>\n",
       "      <td>Han Tang</td>\n",
       "    </tr>\n",
       "    <tr>\n",
       "      <th>4</th>\n",
       "      <td>8b2789fe-36fc-4f74-9094-b11ec46bfd42</td>\n",
       "      <td>2018</td>\n",
       "      <td>60</td>\n",
       "      <td>{Documentary}</td>\n",
       "      <td>NaN</td>\n",
       "      <td>NaN</td>\n",
       "      <td>NaN</td>\n",
       "    </tr>\n",
       "  </tbody>\n",
       "</table>\n",
       "</div>"
      ],
      "text/plain": [
       "                                     id  year  length  \\\n",
       "0  9bd4cbab-0af9-43c1-a6fe-8440b5f7979a  2015      62   \n",
       "1  7e0a9d8e-99b7-4a88-b610-3a52faaae2c1  1929      64   \n",
       "2  6acef12b-404c-4a8f-b365-cef798585893  1993      87   \n",
       "3  9e41e9a6-5628-4123-9353-b9487654ed84  2011      46   \n",
       "4  8b2789fe-36fc-4f74-9094-b11ec46bfd42  2018      60   \n",
       "\n",
       "                             genre             directors  \\\n",
       "0                              NaN         {Stephen Ang}   \n",
       "1          {Mystery, Crime, Drama}          {Phil Rosen}   \n",
       "2                       {Thriller}  {Christian González}   \n",
       "3  {Documentary, Biography, Drama}            {Han Tang}   \n",
       "4                    {Documentary}                   NaN   \n",
       "\n",
       "                                              actors        blocking_key  \n",
       "0  {Stephen Ang, Kimberly Cashner, Peggy Glenn, G...         Stephen Ang  \n",
       "1                    {Ricardo Cortez, Nancy Welford}          Phil Rosen  \n",
       "2  {Leonardo Daniel, Roberto 'Flaco' Guzmán, Arma...  Christian González  \n",
       "3                                                NaN            Han Tang  \n",
       "4                                                NaN                 NaN  "
      ]
     },
     "execution_count": 79,
     "metadata": {},
     "output_type": "execute_result"
    }
   ],
   "source": [
    "import recordlinkage as rl\n",
    "\n",
    "def _hash(x):\n",
    "    return x if not isinstance(x, set) else ','.join(x)\n",
    "\n",
    "df = df.assign(blocking_key=lambda x: x.directors.apply(_hash))    \n",
    "df.head()"
   ]
  },
  {
   "cell_type": "code",
   "execution_count": 80,
   "id": "4ba52ace-7140-4327-a0db-e965302fe8ae",
   "metadata": {},
   "outputs": [
    {
     "name": "stdout",
     "output_type": "stream",
     "text": [
      "Full index: 558458 records, 3923169 pairs\n"
     ]
    }
   ],
   "source": [
    "indexer = rl.BlockIndex('blocking_key')\n",
    "pairs = indexer.index(df)\n",
    "\n",
    "print(f\"Full index: {len(df)} records, {len(pairs)} pairs\")"
   ]
  },
  {
   "cell_type": "code",
   "execution_count": 81,
   "id": "217b24ec-abf5-4316-b8d3-f1d5fd08088a",
   "metadata": {},
   "outputs": [
    {
     "data": {
      "text/plain": [
       "array([[390336,      0],\n",
       "       [517912,      0],\n",
       "       [517912, 390336],\n",
       "       [  5881,      1],\n",
       "       [  6528,      1],\n",
       "       [  6528,   5881],\n",
       "       [ 10009,      1],\n",
       "       [ 10009,   5881],\n",
       "       [ 10009,   6528],\n",
       "       [ 11448,      1]], dtype=int64)"
      ]
     },
     "execution_count": 81,
     "metadata": {},
     "output_type": "execute_result"
    }
   ],
   "source": [
    "pairs.to_frame()[:10].values"
   ]
  },
  {
   "cell_type": "code",
   "execution_count": 82,
   "id": "6357634b-4881-4c61-b492-2c92bb84bfd9",
   "metadata": {},
   "outputs": [
    {
     "data": {
      "text/html": [
       "<div>\n",
       "<style scoped>\n",
       "    .dataframe tbody tr th:only-of-type {\n",
       "        vertical-align: middle;\n",
       "    }\n",
       "\n",
       "    .dataframe tbody tr th {\n",
       "        vertical-align: top;\n",
       "    }\n",
       "\n",
       "    .dataframe thead th {\n",
       "        text-align: right;\n",
       "    }\n",
       "</style>\n",
       "<table border=\"1\" class=\"dataframe\">\n",
       "  <thead>\n",
       "    <tr style=\"text-align: right;\">\n",
       "      <th></th>\n",
       "      <th></th>\n",
       "      <th>0</th>\n",
       "      <th>1</th>\n",
       "    </tr>\n",
       "  </thead>\n",
       "  <tbody>\n",
       "    <tr>\n",
       "      <th>390336</th>\n",
       "      <th>0</th>\n",
       "      <td>390336</td>\n",
       "      <td>0</td>\n",
       "    </tr>\n",
       "    <tr>\n",
       "      <th rowspan=\"2\" valign=\"top\">517912</th>\n",
       "      <th>0</th>\n",
       "      <td>517912</td>\n",
       "      <td>0</td>\n",
       "    </tr>\n",
       "    <tr>\n",
       "      <th>390336</th>\n",
       "      <td>517912</td>\n",
       "      <td>390336</td>\n",
       "    </tr>\n",
       "    <tr>\n",
       "      <th>5881</th>\n",
       "      <th>1</th>\n",
       "      <td>5881</td>\n",
       "      <td>1</td>\n",
       "    </tr>\n",
       "    <tr>\n",
       "      <th>6528</th>\n",
       "      <th>1</th>\n",
       "      <td>6528</td>\n",
       "      <td>1</td>\n",
       "    </tr>\n",
       "  </tbody>\n",
       "</table>\n",
       "</div>"
      ],
      "text/plain": [
       "                    0       1\n",
       "390336 0       390336       0\n",
       "517912 0       517912       0\n",
       "       390336  517912  390336\n",
       "5881   1         5881       1\n",
       "6528   1         6528       1"
      ]
     },
     "execution_count": 82,
     "metadata": {},
     "output_type": "execute_result"
    }
   ],
   "source": [
    "pairs.to_frame().head()"
   ]
  },
  {
   "cell_type": "code",
   "execution_count": 83,
   "id": "9544daaf-6eb2-42be-848b-a426634f57cc",
   "metadata": {},
   "outputs": [
    {
     "data": {
      "text/plain": [
       "id                           f0b43346-24f2-477b-9e0b-0c41e62ac7e3\n",
       "year                                                         2016\n",
       "length                                                         60\n",
       "genre                                                         NaN\n",
       "directors                                           {Stephen Ang}\n",
       "actors          {Stephen Ang, Kimberly Cashner, Peggy Glenn, G...\n",
       "blocking_key                                          Stephen Ang\n",
       "Name: 517912, dtype: object"
      ]
     },
     "execution_count": 83,
     "metadata": {},
     "output_type": "execute_result"
    }
   ],
   "source": [
    "df.iloc[517912]"
   ]
  },
  {
   "cell_type": "code",
   "execution_count": 84,
   "id": "8a4f7383-506c-4330-b1f1-ee31924bcd02",
   "metadata": {},
   "outputs": [
    {
     "data": {
      "text/plain": [
       "id                           9bd4cbab-0af9-43c1-a6fe-8440b5f7979a\n",
       "year                                                         2015\n",
       "length                                                         62\n",
       "genre                                                         NaN\n",
       "directors                                           {Stephen Ang}\n",
       "actors          {Stephen Ang, Kimberly Cashner, Peggy Glenn, G...\n",
       "blocking_key                                          Stephen Ang\n",
       "Name: 0, dtype: object"
      ]
     },
     "execution_count": 84,
     "metadata": {},
     "output_type": "execute_result"
    }
   ],
   "source": [
    "df.iloc[0]"
   ]
  },
  {
   "cell_type": "code",
   "execution_count": 85,
   "id": "af63e864-214b-4722-986a-34f39d7402f5",
   "metadata": {},
   "outputs": [
    {
     "data": {
      "text/plain": [
       "id              365136a9-3218-4cac-b248-74dbaaf8800c\n",
       "year                                            2015\n",
       "length                                            59\n",
       "genre                                       {Horror}\n",
       "directors                              {Stephen Ang}\n",
       "actors                              {Earle MacVeigh}\n",
       "blocking_key                             Stephen Ang\n",
       "Name: 390336, dtype: object"
      ]
     },
     "execution_count": 85,
     "metadata": {},
     "output_type": "execute_result"
    }
   ],
   "source": [
    "df.iloc[390336]"
   ]
  },
  {
   "cell_type": "markdown",
   "id": "500b8858-aa17-4ae5-958e-b764c9afa4df",
   "metadata": {},
   "source": [
    "### Similarity function\n",
    "Jaccard similarity looks like a good candidate to rate the similarity between two set of {genre, directors, actors} because we can assume only the order or the number of values are different."
   ]
  },
  {
   "cell_type": "code",
   "execution_count": 86,
   "id": "796c5c72-94f0-49cd-8d7c-4cc9b09fbce4",
   "metadata": {},
   "outputs": [
    {
     "data": {
      "text/html": [
       "<div>\n",
       "<style scoped>\n",
       "    .dataframe tbody tr th:only-of-type {\n",
       "        vertical-align: middle;\n",
       "    }\n",
       "\n",
       "    .dataframe tbody tr th {\n",
       "        vertical-align: top;\n",
       "    }\n",
       "\n",
       "    .dataframe thead th {\n",
       "        text-align: right;\n",
       "    }\n",
       "</style>\n",
       "<table border=\"1\" class=\"dataframe\">\n",
       "  <thead>\n",
       "    <tr style=\"text-align: right;\">\n",
       "      <th></th>\n",
       "      <th></th>\n",
       "      <th>year</th>\n",
       "      <th>length</th>\n",
       "      <th>genre</th>\n",
       "      <th>directors</th>\n",
       "      <th>actors</th>\n",
       "    </tr>\n",
       "  </thead>\n",
       "  <tbody>\n",
       "    <tr>\n",
       "      <th>390336</th>\n",
       "      <th>0</th>\n",
       "      <td>1.0</td>\n",
       "      <td>1.0</td>\n",
       "      <td>0.000000</td>\n",
       "      <td>1.0</td>\n",
       "      <td>0.0</td>\n",
       "    </tr>\n",
       "    <tr>\n",
       "      <th rowspan=\"2\" valign=\"top\">517912</th>\n",
       "      <th>0</th>\n",
       "      <td>1.0</td>\n",
       "      <td>1.0</td>\n",
       "      <td>0.000000</td>\n",
       "      <td>1.0</td>\n",
       "      <td>1.0</td>\n",
       "    </tr>\n",
       "    <tr>\n",
       "      <th>390336</th>\n",
       "      <td>1.0</td>\n",
       "      <td>1.0</td>\n",
       "      <td>0.000000</td>\n",
       "      <td>1.0</td>\n",
       "      <td>0.0</td>\n",
       "    </tr>\n",
       "    <tr>\n",
       "      <th>5881</th>\n",
       "      <th>1</th>\n",
       "      <td>0.0</td>\n",
       "      <td>0.0</td>\n",
       "      <td>0.333333</td>\n",
       "      <td>1.0</td>\n",
       "      <td>0.0</td>\n",
       "    </tr>\n",
       "    <tr>\n",
       "      <th>6528</th>\n",
       "      <th>1</th>\n",
       "      <td>0.0</td>\n",
       "      <td>1.0</td>\n",
       "      <td>0.000000</td>\n",
       "      <td>1.0</td>\n",
       "      <td>0.0</td>\n",
       "    </tr>\n",
       "  </tbody>\n",
       "</table>\n",
       "</div>"
      ],
      "text/plain": [
       "               year  length     genre  directors  actors\n",
       "390336 0        1.0     1.0  0.000000        1.0     0.0\n",
       "517912 0        1.0     1.0  0.000000        1.0     1.0\n",
       "       390336   1.0     1.0  0.000000        1.0     0.0\n",
       "5881   1        0.0     0.0  0.333333        1.0     0.0\n",
       "6528   1        0.0     1.0  0.000000        1.0     0.0"
      ]
     },
     "execution_count": 86,
     "metadata": {},
     "output_type": "execute_result"
    }
   ],
   "source": [
    "vectorized_expr = np.vectorize(lambda x, y: 1.0 if 2*abs(x-y)/(x+y) <= 0.05 else 0.0)\n",
    "jaccard_vec = np.vectorize(lambda x, y: 0.0 if (isinstance(x, float) or isinstance(y, float)) else float(len(x.intersection(y)) / len(x.union(y))))\n",
    "\n",
    "def length_similarity(s1, s2):\n",
    "    return vectorized_expr(s1, s2)\n",
    "\n",
    "def jaccard_similarity(s1, s2):\n",
    "    return jaccard_vec(s1, s2)\n",
    "\n",
    "comp = rl.Compare()\n",
    "comp.numeric('year', 'year', method='step', offset=1, label='year') # Step: expr = 'abs(d - origin) <= offset'\n",
    "comp.compare_vectorized(length_similarity, 'length', 'length', label='length')\n",
    "comp.compare_vectorized(jaccard_similarity, 'genre', 'genre', label='genre')\n",
    "comp.compare_vectorized(jaccard_similarity, 'directors', 'directors', label='directors')\n",
    "comp.compare_vectorized(jaccard_similarity, 'actors', 'actors', label='actors')\n",
    "\n",
    "comparison_vectors = comp.compute(pairs, df)\n",
    "comparison_vectors.head()"
   ]
  },
  {
   "cell_type": "code",
   "execution_count": 99,
   "id": "4cfb51a0-9d7d-428f-abdb-349919424e82",
   "metadata": {},
   "outputs": [
    {
     "data": {
      "text/html": [
       "<div>\n",
       "<style scoped>\n",
       "    .dataframe tbody tr th:only-of-type {\n",
       "        vertical-align: middle;\n",
       "    }\n",
       "\n",
       "    .dataframe tbody tr th {\n",
       "        vertical-align: top;\n",
       "    }\n",
       "\n",
       "    .dataframe thead th {\n",
       "        text-align: right;\n",
       "    }\n",
       "</style>\n",
       "<table border=\"1\" class=\"dataframe\">\n",
       "  <thead>\n",
       "    <tr style=\"text-align: right;\">\n",
       "      <th></th>\n",
       "      <th></th>\n",
       "      <th>year</th>\n",
       "      <th>length</th>\n",
       "      <th>genre</th>\n",
       "      <th>directors</th>\n",
       "      <th>actors</th>\n",
       "      <th>score</th>\n",
       "    </tr>\n",
       "  </thead>\n",
       "  <tbody>\n",
       "    <tr>\n",
       "      <th>390336</th>\n",
       "      <th>0</th>\n",
       "      <td>1.0</td>\n",
       "      <td>1.0</td>\n",
       "      <td>0.000000</td>\n",
       "      <td>1.0</td>\n",
       "      <td>0.0</td>\n",
       "      <td>0.750000</td>\n",
       "    </tr>\n",
       "    <tr>\n",
       "      <th rowspan=\"2\" valign=\"top\">517912</th>\n",
       "      <th>0</th>\n",
       "      <td>1.0</td>\n",
       "      <td>1.0</td>\n",
       "      <td>0.000000</td>\n",
       "      <td>1.0</td>\n",
       "      <td>1.0</td>\n",
       "      <td>0.900000</td>\n",
       "    </tr>\n",
       "    <tr>\n",
       "      <th>390336</th>\n",
       "      <td>1.0</td>\n",
       "      <td>1.0</td>\n",
       "      <td>0.000000</td>\n",
       "      <td>1.0</td>\n",
       "      <td>0.0</td>\n",
       "      <td>0.750000</td>\n",
       "    </tr>\n",
       "    <tr>\n",
       "      <th>5881</th>\n",
       "      <th>1</th>\n",
       "      <td>0.0</td>\n",
       "      <td>0.0</td>\n",
       "      <td>0.333333</td>\n",
       "      <td>1.0</td>\n",
       "      <td>0.0</td>\n",
       "      <td>0.183333</td>\n",
       "    </tr>\n",
       "    <tr>\n",
       "      <th>6528</th>\n",
       "      <th>1</th>\n",
       "      <td>0.0</td>\n",
       "      <td>1.0</td>\n",
       "      <td>0.000000</td>\n",
       "      <td>1.0</td>\n",
       "      <td>0.0</td>\n",
       "      <td>0.450000</td>\n",
       "    </tr>\n",
       "  </tbody>\n",
       "</table>\n",
       "</div>"
      ],
      "text/plain": [
       "               year  length     genre  directors  actors     score\n",
       "390336 0        1.0     1.0  0.000000        1.0     0.0  0.750000\n",
       "517912 0        1.0     1.0  0.000000        1.0     1.0  0.900000\n",
       "       390336   1.0     1.0  0.000000        1.0     0.0  0.750000\n",
       "5881   1        0.0     0.0  0.333333        1.0     0.0  0.183333\n",
       "6528   1        0.0     1.0  0.000000        1.0     0.0  0.450000"
      ]
     },
     "execution_count": 99,
     "metadata": {},
     "output_type": "execute_result"
    }
   ],
   "source": [
    "scores = np.average(comparison_vectors.values, axis=1, weights=[30, 30, 10, 15, 15])\n",
    "scores_comparison_vectors = comparison_vectors.assign(score=scores)\n",
    "scores_comparison_vectors.head()"
   ]
  },
  {
   "cell_type": "code",
   "execution_count": 115,
   "id": "6b9457f9-0e19-471b-bb23-0a9fe1fbbc7c",
   "metadata": {},
   "outputs": [
    {
     "data": {
      "text/html": [
       "<div>\n",
       "<style scoped>\n",
       "    .dataframe tbody tr th:only-of-type {\n",
       "        vertical-align: middle;\n",
       "    }\n",
       "\n",
       "    .dataframe tbody tr th {\n",
       "        vertical-align: top;\n",
       "    }\n",
       "\n",
       "    .dataframe thead th {\n",
       "        text-align: right;\n",
       "    }\n",
       "</style>\n",
       "<table border=\"1\" class=\"dataframe\">\n",
       "  <thead>\n",
       "    <tr style=\"text-align: right;\">\n",
       "      <th></th>\n",
       "      <th></th>\n",
       "      <th>year</th>\n",
       "      <th>length</th>\n",
       "      <th>genre</th>\n",
       "      <th>directors</th>\n",
       "      <th>actors</th>\n",
       "    </tr>\n",
       "  </thead>\n",
       "  <tbody>\n",
       "    <tr>\n",
       "      <th>517912</th>\n",
       "      <th>0</th>\n",
       "      <td>1.0</td>\n",
       "      <td>1.0</td>\n",
       "      <td>0.0</td>\n",
       "      <td>1.0</td>\n",
       "      <td>1.000</td>\n",
       "    </tr>\n",
       "    <tr>\n",
       "      <th>14718</th>\n",
       "      <th>11448</th>\n",
       "      <td>1.0</td>\n",
       "      <td>1.0</td>\n",
       "      <td>1.0</td>\n",
       "      <td>1.0</td>\n",
       "      <td>0.000</td>\n",
       "    </tr>\n",
       "    <tr>\n",
       "      <th>25985</th>\n",
       "      <th>11448</th>\n",
       "      <td>1.0</td>\n",
       "      <td>1.0</td>\n",
       "      <td>1.0</td>\n",
       "      <td>1.0</td>\n",
       "      <td>0.000</td>\n",
       "    </tr>\n",
       "    <tr>\n",
       "      <th>68823</th>\n",
       "      <th>51513</th>\n",
       "      <td>1.0</td>\n",
       "      <td>1.0</td>\n",
       "      <td>1.0</td>\n",
       "      <td>1.0</td>\n",
       "      <td>0.500</td>\n",
       "    </tr>\n",
       "    <tr>\n",
       "      <th>74353</th>\n",
       "      <th>11448</th>\n",
       "      <td>1.0</td>\n",
       "      <td>1.0</td>\n",
       "      <td>1.0</td>\n",
       "      <td>1.0</td>\n",
       "      <td>0.125</td>\n",
       "    </tr>\n",
       "  </tbody>\n",
       "</table>\n",
       "</div>"
      ],
      "text/plain": [
       "              year  length  genre  directors  actors\n",
       "517912 0       1.0     1.0    0.0        1.0   1.000\n",
       "14718  11448   1.0     1.0    1.0        1.0   0.000\n",
       "25985  11448   1.0     1.0    1.0        1.0   0.000\n",
       "68823  51513   1.0     1.0    1.0        1.0   0.500\n",
       "74353  11448   1.0     1.0    1.0        1.0   0.125"
      ]
     },
     "execution_count": 115,
     "metadata": {},
     "output_type": "execute_result"
    }
   ],
   "source": [
    "matches = comparison_vectors[scores_comparison_vectors['score'] >= 0.85]\n",
    "matches.head()"
   ]
  },
  {
   "cell_type": "code",
   "execution_count": 116,
   "id": "7f78f839-c2f4-4f12-ad0f-266d6ceb7964",
   "metadata": {},
   "outputs": [
    {
     "data": {
      "text/plain": [
       "(188031, 5)"
      ]
     },
     "execution_count": 116,
     "metadata": {},
     "output_type": "execute_result"
    }
   ],
   "source": [
    "matches.shape"
   ]
  },
  {
   "cell_type": "markdown",
   "id": "44dee56f-6f6b-4404-9504-62e07ce9eb77",
   "metadata": {},
   "source": [
    "**Reminder**: The algorithm is generic and match more than one single value."
   ]
  },
  {
   "cell_type": "code",
   "execution_count": 11,
   "id": "d0f50eef-1932-4475-89d5-122c4ec6f14e",
   "metadata": {},
   "outputs": [
    {
     "data": {
      "text/html": [
       "<div>\n",
       "<style scoped>\n",
       "    .dataframe tbody tr th:only-of-type {\n",
       "        vertical-align: middle;\n",
       "    }\n",
       "\n",
       "    .dataframe tbody tr th {\n",
       "        vertical-align: top;\n",
       "    }\n",
       "\n",
       "    .dataframe thead th {\n",
       "        text-align: right;\n",
       "    }\n",
       "</style>\n",
       "<table border=\"1\" class=\"dataframe\">\n",
       "  <thead>\n",
       "    <tr style=\"text-align: right;\">\n",
       "      <th></th>\n",
       "      <th>id</th>\n",
       "      <th>year</th>\n",
       "      <th>length</th>\n",
       "      <th>genre</th>\n",
       "      <th>directors</th>\n",
       "      <th>actors</th>\n",
       "    </tr>\n",
       "  </thead>\n",
       "  <tbody>\n",
       "    <tr>\n",
       "      <th>517912</th>\n",
       "      <td>f0b43346-24f2-477b-9e0b-0c41e62ac7e3</td>\n",
       "      <td>2016</td>\n",
       "      <td>60</td>\n",
       "      <td>NaN</td>\n",
       "      <td>Stephen Ang</td>\n",
       "      <td>Stephen Ang,George Capacete,Kimberly Cashner,P...</td>\n",
       "    </tr>\n",
       "  </tbody>\n",
       "</table>\n",
       "</div>"
      ],
      "text/plain": [
       "                                          id  year  length genre    directors  \\\n",
       "517912  f0b43346-24f2-477b-9e0b-0c41e62ac7e3  2016      60   NaN  Stephen Ang   \n",
       "\n",
       "                                                   actors  \n",
       "517912  Stephen Ang,George Capacete,Kimberly Cashner,P...  "
      ]
     },
     "metadata": {},
     "output_type": "display_data"
    },
    {
     "name": "stdout",
     "output_type": "stream",
     "text": [
      "matched:\n"
     ]
    },
    {
     "name": "stderr",
     "output_type": "stream",
     "text": [
      "<ipython-input-11-b07b460e1dc8>:3: PerformanceWarning: indexing past lexsort depth may impact performance.\n",
      "  display(df.loc[matches.loc[(517912,)].index])\n"
     ]
    },
    {
     "data": {
      "text/html": [
       "<div>\n",
       "<style scoped>\n",
       "    .dataframe tbody tr th:only-of-type {\n",
       "        vertical-align: middle;\n",
       "    }\n",
       "\n",
       "    .dataframe tbody tr th {\n",
       "        vertical-align: top;\n",
       "    }\n",
       "\n",
       "    .dataframe thead th {\n",
       "        text-align: right;\n",
       "    }\n",
       "</style>\n",
       "<table border=\"1\" class=\"dataframe\">\n",
       "  <thead>\n",
       "    <tr style=\"text-align: right;\">\n",
       "      <th></th>\n",
       "      <th>id</th>\n",
       "      <th>year</th>\n",
       "      <th>length</th>\n",
       "      <th>genre</th>\n",
       "      <th>directors</th>\n",
       "      <th>actors</th>\n",
       "    </tr>\n",
       "  </thead>\n",
       "  <tbody>\n",
       "    <tr>\n",
       "      <th>0</th>\n",
       "      <td>9bd4cbab-0af9-43c1-a6fe-8440b5f7979a</td>\n",
       "      <td>2015</td>\n",
       "      <td>62</td>\n",
       "      <td>NaN</td>\n",
       "      <td>Stephen Ang</td>\n",
       "      <td>Stephen Ang,George Capacete,Kimberly Cashner,P...</td>\n",
       "    </tr>\n",
       "  </tbody>\n",
       "</table>\n",
       "</div>"
      ],
      "text/plain": [
       "                                     id  year  length genre    directors  \\\n",
       "0  9bd4cbab-0af9-43c1-a6fe-8440b5f7979a  2015      62   NaN  Stephen Ang   \n",
       "\n",
       "                                              actors  \n",
       "0  Stephen Ang,George Capacete,Kimberly Cashner,P...  "
      ]
     },
     "metadata": {},
     "output_type": "display_data"
    }
   ],
   "source": [
    "display(df.loc[[517912]])\n",
    "print(\"matched:\")\n",
    "display(df.loc[matches.loc[(517912,)].index])"
   ]
  },
  {
   "cell_type": "code",
   "execution_count": 124,
   "id": "44c07bcc-f140-48e8-84e3-f83fd18e5921",
   "metadata": {},
   "outputs": [],
   "source": [
    "with open('result.tsv', 'w') as f:\n",
    "    for index, row in matches.iterrows():\n",
    "        f.write(f\"{df.iloc[index[0]]['id']}\\t {df.iloc[index[1]]['id']}\\n\")"
   ]
  }
 ],
 "metadata": {
  "kernelspec": {
   "display_name": "Python 3",
   "language": "python",
   "name": "python3"
  },
  "language_info": {
   "codemirror_mode": {
    "name": "ipython",
    "version": 3
   },
   "file_extension": ".py",
   "mimetype": "text/x-python",
   "name": "python",
   "nbconvert_exporter": "python",
   "pygments_lexer": "ipython3",
   "version": "3.9.1"
  }
 },
 "nbformat": 4,
 "nbformat_minor": 5
}
