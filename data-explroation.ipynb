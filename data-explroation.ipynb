{
 "cells": [
  {
   "cell_type": "markdown",
   "id": "169f39f9-a42b-4b9c-a1e2-7a617ec3f1e9",
   "metadata": {},
   "source": [
    "# Deduplication Problem by Content Square\n",
    "\n",
    "## Problem statement\n",
    "Movies are collected from different data providers. Data providers don't always use the same information to describe the same movie.\n",
    "Given a list of movies where each movie is described by two different providers, the task is to identify the duplications.\n",
    "\n",
    "The purpose of this kernel is first to explore the dataset, then, try to identify duplicated records.\n",
    "\n",
    "## What is duplication?\n",
    "In our case, duplicate means we can have two slightly different entries for the same movie. This is what is called in academic studies __record linkage__. Record linkage is an heavy research field with a lot of potential, with a lot of possible ways to solve them (machine learning, probabilistic, deterministic and so on).\n",
    "\n",
    "To solve our problem, we will use the probabilistic approch.\n",
    "\n",
    "## Reminder\n",
    "For two entries describing the same movie, it's possible to have the following differences:\n",
    "* id: each is unique\n",
    "* year: ±1 year at maximum\n",
    "* length: ±5% more, 2* |x-y| / (x+y) <= 0.05 where x and y is the provided movie length\n",
    "* \\[genre, actors, directors\\]: different order, or missing one or many"
   ]
  },
  {
   "cell_type": "markdown",
   "id": "dcb4a056-56a0-47c0-9cb7-49e71fd1b1a1",
   "metadata": {},
   "source": [
    "## Setup Python"
   ]
  },
  {
   "cell_type": "code",
   "execution_count": 73,
   "id": "c92dc883-f6f3-47d0-a861-c39c2e811d2b",
   "metadata": {},
   "outputs": [
    {
     "name": "stdout",
     "output_type": "stream",
     "text": [
      "Pandas: 1.2.4\n",
      "Numpy: 1.20.1\n",
      "Seaborn: 0.11.1\n"
     ]
    },
    {
     "data": {
      "text/plain": [
       "<Figure size 1152x432 with 0 Axes>"
      ]
     },
     "metadata": {},
     "output_type": "display_data"
    }
   ],
   "source": [
    "import pandas as pd\n",
    "import numpy as np\n",
    "import seaborn as sns\n",
    "import matplotlib.pyplot as plt\n",
    "\n",
    "plt.figure(figsize=(16,6))\n",
    "\n",
    "print(f\"Pandas: {pd.__version__}\")\n",
    "print(f\"Numpy: {np.__version__}\")\n",
    "print(f\"Seaborn: {sns.__version__}\")"
   ]
  },
  {
   "cell_type": "markdown",
   "id": "9f1c1a8f-c54f-4333-bd00-3eb7d1186dff",
   "metadata": {},
   "source": [
    "## Read the dataset"
   ]
  },
  {
   "cell_type": "code",
   "execution_count": 47,
   "id": "c7d78580-1fe6-47a8-9715-d8f9db4581ec",
   "metadata": {},
   "outputs": [
    {
     "name": "stdout",
     "output_type": "stream",
     "text": [
      "<class 'pandas.core.frame.DataFrame'>\n",
      "RangeIndex: 558458 entries, 0 to 558457\n",
      "Data columns (total 6 columns):\n",
      " #   Column     Non-Null Count   Dtype \n",
      "---  ------     --------------   ----- \n",
      " 0   id         558458 non-null  object\n",
      " 1   year       558458 non-null  int64 \n",
      " 2   length     558458 non-null  int64 \n",
      " 3   genre      483540 non-null  object\n",
      " 4   directors  461089 non-null  object\n",
      " 5   actors     415669 non-null  object\n",
      "dtypes: int64(2), object(4)\n",
      "memory usage: 25.6+ MB\n"
     ]
    }
   ],
   "source": [
    "df = pd.read_csv('movies.tsv', sep='\\t', low_memory=False) # low_memory avoid reading by chunks and mixed types issues\n",
    "df = df.replace(r'\\N', np.NaN) # Unknown fields are marked \\N\n",
    "df.info()"
   ]
  },
  {
   "cell_type": "code",
   "execution_count": 48,
   "id": "ed29b18d-cd31-4f0c-bbc7-73c57b053a95",
   "metadata": {},
   "outputs": [
    {
     "data": {
      "text/html": [
       "<div>\n",
       "<style scoped>\n",
       "    .dataframe tbody tr th:only-of-type {\n",
       "        vertical-align: middle;\n",
       "    }\n",
       "\n",
       "    .dataframe tbody tr th {\n",
       "        vertical-align: top;\n",
       "    }\n",
       "\n",
       "    .dataframe thead th {\n",
       "        text-align: right;\n",
       "    }\n",
       "</style>\n",
       "<table border=\"1\" class=\"dataframe\">\n",
       "  <thead>\n",
       "    <tr style=\"text-align: right;\">\n",
       "      <th></th>\n",
       "      <th>id</th>\n",
       "      <th>year</th>\n",
       "      <th>length</th>\n",
       "      <th>genre</th>\n",
       "      <th>directors</th>\n",
       "      <th>actors</th>\n",
       "    </tr>\n",
       "  </thead>\n",
       "  <tbody>\n",
       "    <tr>\n",
       "      <th>0</th>\n",
       "      <td>9bd4cbab-0af9-43c1-a6fe-8440b5f7979a</td>\n",
       "      <td>2015</td>\n",
       "      <td>62</td>\n",
       "      <td>NaN</td>\n",
       "      <td>Stephen Ang</td>\n",
       "      <td>Stephen Ang,George Capacete,Kimberly Cashner,P...</td>\n",
       "    </tr>\n",
       "    <tr>\n",
       "      <th>1</th>\n",
       "      <td>7e0a9d8e-99b7-4a88-b610-3a52faaae2c1</td>\n",
       "      <td>1929</td>\n",
       "      <td>64</td>\n",
       "      <td>Crime,Drama,Mystery</td>\n",
       "      <td>Phil Rosen</td>\n",
       "      <td>Ricardo Cortez,Nancy Welford</td>\n",
       "    </tr>\n",
       "    <tr>\n",
       "      <th>2</th>\n",
       "      <td>6acef12b-404c-4a8f-b365-cef798585893</td>\n",
       "      <td>1993</td>\n",
       "      <td>87</td>\n",
       "      <td>Thriller</td>\n",
       "      <td>Christian González</td>\n",
       "      <td>Leonardo Daniel,Roberto 'Flaco' Guzmán,Armando...</td>\n",
       "    </tr>\n",
       "    <tr>\n",
       "      <th>3</th>\n",
       "      <td>9e41e9a6-5628-4123-9353-b9487654ed84</td>\n",
       "      <td>2011</td>\n",
       "      <td>46</td>\n",
       "      <td>Biography,Documentary,Drama</td>\n",
       "      <td>Han Tang</td>\n",
       "      <td>NaN</td>\n",
       "    </tr>\n",
       "    <tr>\n",
       "      <th>4</th>\n",
       "      <td>8b2789fe-36fc-4f74-9094-b11ec46bfd42</td>\n",
       "      <td>2018</td>\n",
       "      <td>60</td>\n",
       "      <td>Documentary</td>\n",
       "      <td>NaN</td>\n",
       "      <td>NaN</td>\n",
       "    </tr>\n",
       "  </tbody>\n",
       "</table>\n",
       "</div>"
      ],
      "text/plain": [
       "                                     id  year  length  \\\n",
       "0  9bd4cbab-0af9-43c1-a6fe-8440b5f7979a  2015      62   \n",
       "1  7e0a9d8e-99b7-4a88-b610-3a52faaae2c1  1929      64   \n",
       "2  6acef12b-404c-4a8f-b365-cef798585893  1993      87   \n",
       "3  9e41e9a6-5628-4123-9353-b9487654ed84  2011      46   \n",
       "4  8b2789fe-36fc-4f74-9094-b11ec46bfd42  2018      60   \n",
       "\n",
       "                         genre           directors  \\\n",
       "0                          NaN         Stephen Ang   \n",
       "1          Crime,Drama,Mystery          Phil Rosen   \n",
       "2                     Thriller  Christian González   \n",
       "3  Biography,Documentary,Drama            Han Tang   \n",
       "4                  Documentary                 NaN   \n",
       "\n",
       "                                              actors  \n",
       "0  Stephen Ang,George Capacete,Kimberly Cashner,P...  \n",
       "1                       Ricardo Cortez,Nancy Welford  \n",
       "2  Leonardo Daniel,Roberto 'Flaco' Guzmán,Armando...  \n",
       "3                                                NaN  \n",
       "4                                                NaN  "
      ]
     },
     "execution_count": 48,
     "metadata": {},
     "output_type": "execute_result"
    }
   ],
   "source": [
    "df.head()"
   ]
  },
  {
   "cell_type": "code",
   "execution_count": 49,
   "id": "5f6b9d9e-6ea3-412e-ba2d-11e462f97261",
   "metadata": {},
   "outputs": [
    {
     "data": {
      "text/html": [
       "<div>\n",
       "<style scoped>\n",
       "    .dataframe tbody tr th:only-of-type {\n",
       "        vertical-align: middle;\n",
       "    }\n",
       "\n",
       "    .dataframe tbody tr th {\n",
       "        vertical-align: top;\n",
       "    }\n",
       "\n",
       "    .dataframe thead th {\n",
       "        text-align: right;\n",
       "    }\n",
       "</style>\n",
       "<table border=\"1\" class=\"dataframe\">\n",
       "  <thead>\n",
       "    <tr style=\"text-align: right;\">\n",
       "      <th></th>\n",
       "      <th>year</th>\n",
       "      <th>length</th>\n",
       "    </tr>\n",
       "  </thead>\n",
       "  <tbody>\n",
       "    <tr>\n",
       "      <th>count</th>\n",
       "      <td>558458.000000</td>\n",
       "      <td>558458.000000</td>\n",
       "    </tr>\n",
       "    <tr>\n",
       "      <th>mean</th>\n",
       "      <td>1992.097026</td>\n",
       "      <td>87.525569</td>\n",
       "    </tr>\n",
       "    <tr>\n",
       "      <th>std</th>\n",
       "      <td>25.832787</td>\n",
       "      <td>53.825148</td>\n",
       "    </tr>\n",
       "    <tr>\n",
       "      <th>min</th>\n",
       "      <td>1893.000000</td>\n",
       "      <td>1.000000</td>\n",
       "    </tr>\n",
       "    <tr>\n",
       "      <th>25%</th>\n",
       "      <td>1976.000000</td>\n",
       "      <td>73.000000</td>\n",
       "    </tr>\n",
       "    <tr>\n",
       "      <th>50%</th>\n",
       "      <td>2004.000000</td>\n",
       "      <td>88.000000</td>\n",
       "    </tr>\n",
       "    <tr>\n",
       "      <th>75%</th>\n",
       "      <td>2013.000000</td>\n",
       "      <td>99.000000</td>\n",
       "    </tr>\n",
       "    <tr>\n",
       "      <th>max</th>\n",
       "      <td>2026.000000</td>\n",
       "      <td>14400.000000</td>\n",
       "    </tr>\n",
       "  </tbody>\n",
       "</table>\n",
       "</div>"
      ],
      "text/plain": [
       "                year         length\n",
       "count  558458.000000  558458.000000\n",
       "mean     1992.097026      87.525569\n",
       "std        25.832787      53.825148\n",
       "min      1893.000000       1.000000\n",
       "25%      1976.000000      73.000000\n",
       "50%      2004.000000      88.000000\n",
       "75%      2013.000000      99.000000\n",
       "max      2026.000000   14400.000000"
      ]
     },
     "execution_count": 49,
     "metadata": {},
     "output_type": "execute_result"
    }
   ],
   "source": [
    "df.describe()"
   ]
  },
  {
   "cell_type": "markdown",
   "id": "668ef61e-691e-443c-8d9a-342ba1435ce3",
   "metadata": {},
   "source": [
    "Out of 558 458 entries, only genre, directors and actors contains null values and need to be processed.\n",
    "\n",
    "Year and length does not look bad, a majority are those values make sense, and can probably be used as a blocking key to generate meaningful pairs."
   ]
  },
  {
   "cell_type": "markdown",
   "id": "3388dbcb-99d3-4a75-b899-16ce3a4942b0",
   "metadata": {},
   "source": [
    "## Data cleaning"
   ]
  },
  {
   "cell_type": "code",
   "execution_count": 36,
   "id": "73bf35b5-0bc1-4461-a869-761ba1df7938",
   "metadata": {},
   "outputs": [
    {
     "data": {
      "text/html": [
       "<div>\n",
       "<style scoped>\n",
       "    .dataframe tbody tr th:only-of-type {\n",
       "        vertical-align: middle;\n",
       "    }\n",
       "\n",
       "    .dataframe tbody tr th {\n",
       "        vertical-align: top;\n",
       "    }\n",
       "\n",
       "    .dataframe thead th {\n",
       "        text-align: right;\n",
       "    }\n",
       "</style>\n",
       "<table border=\"1\" class=\"dataframe\">\n",
       "  <thead>\n",
       "    <tr style=\"text-align: right;\">\n",
       "      <th></th>\n",
       "      <th>id</th>\n",
       "      <th>year</th>\n",
       "      <th>length</th>\n",
       "      <th>genre</th>\n",
       "      <th>directors</th>\n",
       "      <th>actors</th>\n",
       "    </tr>\n",
       "  </thead>\n",
       "  <tbody>\n",
       "    <tr>\n",
       "      <th>0</th>\n",
       "      <td>9bd4cbab-0af9-43c1-a6fe-8440b5f7979a</td>\n",
       "      <td>2015</td>\n",
       "      <td>62</td>\n",
       "      <td>NaN</td>\n",
       "      <td>[Stephen Ang]</td>\n",
       "      <td>[Stephen Ang, George Capacete, Kimberly Cashne...</td>\n",
       "    </tr>\n",
       "    <tr>\n",
       "      <th>1</th>\n",
       "      <td>7e0a9d8e-99b7-4a88-b610-3a52faaae2c1</td>\n",
       "      <td>1929</td>\n",
       "      <td>64</td>\n",
       "      <td>[Crime, Drama, Mystery]</td>\n",
       "      <td>[Phil Rosen]</td>\n",
       "      <td>[Ricardo Cortez, Nancy Welford]</td>\n",
       "    </tr>\n",
       "    <tr>\n",
       "      <th>2</th>\n",
       "      <td>6acef12b-404c-4a8f-b365-cef798585893</td>\n",
       "      <td>1993</td>\n",
       "      <td>87</td>\n",
       "      <td>[Thriller]</td>\n",
       "      <td>[Christian González]</td>\n",
       "      <td>[Leonardo Daniel, Roberto 'Flaco' Guzmán, Arma...</td>\n",
       "    </tr>\n",
       "    <tr>\n",
       "      <th>3</th>\n",
       "      <td>9e41e9a6-5628-4123-9353-b9487654ed84</td>\n",
       "      <td>2011</td>\n",
       "      <td>46</td>\n",
       "      <td>[Biography, Documentary, Drama]</td>\n",
       "      <td>[Han Tang]</td>\n",
       "      <td>NaN</td>\n",
       "    </tr>\n",
       "    <tr>\n",
       "      <th>4</th>\n",
       "      <td>8b2789fe-36fc-4f74-9094-b11ec46bfd42</td>\n",
       "      <td>2018</td>\n",
       "      <td>60</td>\n",
       "      <td>[Documentary]</td>\n",
       "      <td>NaN</td>\n",
       "      <td>NaN</td>\n",
       "    </tr>\n",
       "  </tbody>\n",
       "</table>\n",
       "</div>"
      ],
      "text/plain": [
       "                                     id  year  length  \\\n",
       "0  9bd4cbab-0af9-43c1-a6fe-8440b5f7979a  2015      62   \n",
       "1  7e0a9d8e-99b7-4a88-b610-3a52faaae2c1  1929      64   \n",
       "2  6acef12b-404c-4a8f-b365-cef798585893  1993      87   \n",
       "3  9e41e9a6-5628-4123-9353-b9487654ed84  2011      46   \n",
       "4  8b2789fe-36fc-4f74-9094-b11ec46bfd42  2018      60   \n",
       "\n",
       "                             genre             directors  \\\n",
       "0                              NaN         [Stephen Ang]   \n",
       "1          [Crime, Drama, Mystery]          [Phil Rosen]   \n",
       "2                       [Thriller]  [Christian González]   \n",
       "3  [Biography, Documentary, Drama]            [Han Tang]   \n",
       "4                    [Documentary]                   NaN   \n",
       "\n",
       "                                              actors  \n",
       "0  [Stephen Ang, George Capacete, Kimberly Cashne...  \n",
       "1                    [Ricardo Cortez, Nancy Welford]  \n",
       "2  [Leonardo Daniel, Roberto 'Flaco' Guzmán, Arma...  \n",
       "3                                                NaN  \n",
       "4                                                NaN  "
      ]
     },
     "execution_count": 36,
     "metadata": {},
     "output_type": "execute_result"
    }
   ],
   "source": [
    "def split_list(x):\n",
    "    return x if isinstance(x, float) else x.split(',')\n",
    "\n",
    "df['actors'] = df['actors'].apply(split_list)\n",
    "df['genre'] = df['genre'].apply(split_list)\n",
    "df['directors'] = df['directors'].apply(split_list)\n",
    "\n",
    "df.head()"
   ]
  },
  {
   "cell_type": "markdown",
   "id": "6d96ce11-d7f1-49fd-befe-6f4a4162e98d",
   "metadata": {},
   "source": [
    "## Visualization"
   ]
  },
  {
   "cell_type": "markdown",
   "id": "ac6e2972-3cdd-4d41-b25c-51ac9914eeee",
   "metadata": {},
   "source": [
    "It is time to visualize the repartition of null values accross our dataset:"
   ]
  },
  {
   "cell_type": "code",
   "execution_count": 70,
   "id": "fad813aa-7c4b-43df-94a4-caaea8df77a3",
   "metadata": {},
   "outputs": [
    {
     "data": {
      "text/plain": [
       "<AxesSubplot:>"
      ]
     },
     "execution_count": 70,
     "metadata": {},
     "output_type": "execute_result"
    },
    {
     "data": {
      "image/png": "[encoded data removed]",
      "text/plain": [
       "<Figure size 432x288 with 1 Axes>"
      ]
     },
     "metadata": {
      "needs_background": "light"
     },
     "output_type": "display_data"
    }
   ],
   "source": [
    "sns.heatmap(df.isnull(), yticklabels = False, cbar = False, cmap = 'viridis')"
   ]
  },
  {
   "cell_type": "code",
   "execution_count": 82,
   "id": "a128ceec-8415-44a0-95b7-23e23bc6bac2",
   "metadata": {},
   "outputs": [
    {
     "name": "stdout",
     "output_type": "stream",
     "text": [
      "NaN actors values: 142789 (25.57%)\n",
      "NaN directors values: 97369 (17.44%)\n"
     ]
    }
   ],
   "source": [
    "null_actors = df[df['actors'].isna()]\n",
    "null_actors_percentage = len(null_actors)*100/len(df['actors'])\n",
    "\n",
    "null_directors = df[df['directors'].isna()]\n",
    "null_directors_percentage = len(null_directors)*100/len(df['directors'])\n",
    "\n",
    "print(\"NaN actors values: {} ({:.2f}%)\".format(len(null_actors), null_actors_percentage))\n",
    "print(\"NaN directors values: {} ({:.2f}%)\".format(len(null_directors), null_directors_percentage))"
   ]
  },
  {
   "cell_type": "markdown",
   "id": "b234720b-29cf-4d04-b8dc-d533072cb551",
   "metadata": {},
   "source": [
    "As expected, genre, directors and actors has null values. However, we can clearly see that genre has less null value than directors or actors and the lack of data is to big in order to try to infer.\n",
    "\n",
    "That may indicate genre will certainly has more weight, then directors and finally actors in the similarity function."
   ]
  },
  {
   "cell_type": "markdown",
   "id": "d68c1721-a6c9-4dad-a75e-73aae4283923",
   "metadata": {},
   "source": [
    "### Year\n",
    "I suggested year would be a good candidate as a blocking key. How is the repartition?"
   ]
  },
  {
   "cell_type": "code",
   "execution_count": 83,
   "id": "48863c31-d3f9-4235-ac4d-50427a1cc9fd",
   "metadata": {},
   "outputs": [
    {
     "data": {
      "text/plain": [
       "<AxesSubplot:xlabel='year'>"
      ]
     },
     "execution_count": 83,
     "metadata": {},
     "output_type": "execute_result"
    },
    {
     "data": {
      "image/png": "[encoded data removed]",
      "text/plain": [
       "<Figure size 432x288 with 1 Axes>"
      ]
     },
     "metadata": {
      "needs_background": "light"
     },
     "output_type": "display_data"
    }
   ],
   "source": [
    "sns.boxplot(data=df, x='year')"
   ]
  },
  {
   "cell_type": "code",
   "execution_count": 84,
   "id": "8496931b-9f9b-4824-b161-64a3827de256",
   "metadata": {},
   "outputs": [
    {
     "data": {
      "text/plain": [
       "<seaborn.axisgrid.FacetGrid at 0x239fd21a940>"
      ]
     },
     "execution_count": 84,
     "metadata": {},
     "output_type": "execute_result"
    },
    {
     "data": {
      "image/png": "[encoded data removed]",
      "text/plain": [
       "<Figure size 360x360 with 1 Axes>"
      ]
     },
     "metadata": {
      "needs_background": "light"
     },
     "output_type": "display_data"
    }
   ],
   "source": [
    "sns.displot(data=df, x='year')"
   ]
  },
  {
   "cell_type": "code",
   "execution_count": 104,
   "id": "6af2de99-95a7-41fe-88bd-ca3d23039479",
   "metadata": {},
   "outputs": [
    {
     "data": {
      "text/plain": [
       "129"
      ]
     },
     "execution_count": 104,
     "metadata": {},
     "output_type": "execute_result"
    }
   ],
   "source": [
    "df['year'].nunique()"
   ]
  },
  {
   "cell_type": "markdown",
   "id": "ef0a98ea-36f6-4529-aa36-80bd25fb04a3",
   "metadata": {},
   "source": [
    "### Length"
   ]
  },
  {
   "cell_type": "code",
   "execution_count": 98,
   "id": "57ade2af-c1f6-408d-bb68-1b4151a3432e",
   "metadata": {},
   "outputs": [
    {
     "data": {
      "text/plain": [
       "<AxesSubplot:xlabel='length'>"
      ]
     },
     "execution_count": 98,
     "metadata": {},
     "output_type": "execute_result"
    },
    {
     "data": {
      "image/png": "[encoded data removed]",
      "text/plain": [
       "<Figure size 432x288 with 1 Axes>"
      ]
     },
     "metadata": {
      "needs_background": "light"
     },
     "output_type": "display_data"
    }
   ],
   "source": [
    "sns.boxplot(data=df, x='length')"
   ]
  },
  {
   "cell_type": "code",
   "execution_count": 105,
   "id": "80cd77b8-311c-4bcd-9e0e-7eb931477af8",
   "metadata": {},
   "outputs": [
    {
     "data": {
      "text/plain": [
       "563"
      ]
     },
     "execution_count": 105,
     "metadata": {},
     "output_type": "execute_result"
    }
   ],
   "source": [
    "df['length'].nunique()"
   ]
  },
  {
   "cell_type": "markdown",
   "id": "393d9569-f6dc-429b-b831-ce0b4c2bb3e6",
   "metadata": {},
   "source": [
    "## Solution\n",
    "### Indexing"
   ]
  },
  {
   "cell_type": "code",
   "execution_count": 113,
   "id": "4ba52ace-7140-4327-a0db-e965302fe8ae",
   "metadata": {},
   "outputs": [
    {
     "name": "stdout",
     "output_type": "stream",
     "text": [
      "Full index: 558458 records, 126111 paris\n"
     ]
    }
   ],
   "source": [
    "import recordlinkage as rl\n",
    "\n",
    "full_indexer = rl.BlockIndex('actors')\n",
    "pairs = full_indexer.index(df)\n",
    "\n",
    "print(f\"Full index: {len(df)} records, {len(pairs)} paris\")"
   ]
  },
  {
   "cell_type": "code",
   "execution_count": 114,
   "id": "217b24ec-abf5-4316-b8d3-f1d5fd08088a",
   "metadata": {},
   "outputs": [
    {
     "data": {
      "text/plain": [
       "array([[517912,      0],\n",
       "       [289677,      6],\n",
       "       [238739,      8],\n",
       "       [477767,      9],\n",
       "       [538498,     12],\n",
       "       [ 76008,     20],\n",
       "       [120367,     20],\n",
       "       [120367,  76008],\n",
       "       [244771,     20],\n",
       "       [244771,  76008]], dtype=int64)"
      ]
     },
     "execution_count": 114,
     "metadata": {},
     "output_type": "execute_result"
    }
   ],
   "source": [
    "pairs.to_frame()[:10].values"
   ]
  },
  {
   "cell_type": "code",
   "execution_count": 121,
   "id": "9544daaf-6eb2-42be-848b-a426634f57cc",
   "metadata": {},
   "outputs": [
    {
     "data": {
      "text/plain": [
       "'Stephen Ang,George Capacete,Kimberly Cashner,Peggy Glenn'"
      ]
     },
     "execution_count": 121,
     "metadata": {},
     "output_type": "execute_result"
    }
   ],
   "source": [
    "df.iloc[517912].actors"
   ]
  },
  {
   "cell_type": "code",
   "execution_count": 122,
   "id": "8a4f7383-506c-4330-b1f1-ee31924bcd02",
   "metadata": {},
   "outputs": [
    {
     "data": {
      "text/plain": [
       "'Stephen Ang,George Capacete,Kimberly Cashner,Peggy Glenn'"
      ]
     },
     "execution_count": 122,
     "metadata": {},
     "output_type": "execute_result"
    }
   ],
   "source": [
    "df.iloc[0].actors"
   ]
  },
  {
   "cell_type": "code",
   "execution_count": null,
   "id": "796c5c72-94f0-49cd-8d7c-4cc9b09fbce4",
   "metadata": {},
   "outputs": [],
   "source": []
  }
 ],
 "metadata": {
  "kernelspec": {
   "display_name": "Python 3",
   "language": "python",
   "name": "python3"
  },
  "language_info": {
   "codemirror_mode": {
    "name": "ipython",
    "version": 3
   },
   "file_extension": ".py",
   "mimetype": "text/x-python",
   "name": "python",
   "nbconvert_exporter": "python",
   "pygments_lexer": "ipython3",
   "version": "3.9.1"
  }
 },
 "nbformat": 4,
 "nbformat_minor": 5
}
